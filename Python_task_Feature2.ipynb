{
 "cells": [
  {
   "cell_type": "code",
   "execution_count": 5,
   "metadata": {},
   "outputs": [],
   "source": [
    "from abc import ABC, abstractmethod\n",
    "import pandas as pd\n",
    "import json\n",
    "import xmltodict\n"
   ]
  },
  {
   "cell_type": "code",
   "execution_count": 4,
   "metadata": {},
   "outputs": [],
   "source": [
    "class JsonParser(ABC):\n",
    "    \"\"\"Abstract JsonParser Class\"\"\"\n",
    "\n",
    "    @abstractmethod\n",
    "    def parse_to_json(self, path_input, path_output):\n",
    "        pass"
   ]
  },
  {
   "cell_type": "code",
   "execution_count": 6,
   "metadata": {},
   "outputs": [],
   "source": [
    "class CSVParser(JsonParser):\n",
    "    \"\"\"CSVParser that inherts from JsonParser\"\"\"\n",
    "\n",
    "    # overriding abstract method\n",
    "    def parse_to_json(self, path_input, path_output):\n",
    "        df = pd.read_csv(path_input, index_col = 0)\n",
    "        df.to_json(path_output)\n"
   ]
  },
  {
   "cell_type": "code",
   "execution_count": null,
   "metadata": {},
   "outputs": [],
   "source": [
    "class XMLParser(JsonParser):\n",
    "    \"\"\"CSVParser that inherts from JsonParser\"\"\"\n",
    "\n",
    "    # overriding abstract method\n",
    "    def parse_to_json(self, path_input, path_output):\n",
    "        \"\"\"Parse XML to json file\"\"\"\n",
    "        with open(path_input) as xml_file:\n",
    "            data_dict = xmltodict.parse(xml_file.read())\n",
    "            xml_file.close()\n",
    "            json_data = json.dumps(data_dict)\n",
    "            with open(path_output, \"w\") as json_file:\n",
    "                json_file.write(json_data)\n",
    "                json_file.close()\n"
   ]
  },
  {
   "cell_type": "code",
   "execution_count": null,
   "metadata": {},
   "outputs": [],
   "source": [
    "class CSVParser(JsonParser):\n",
    "    \"\"\"CSVParser that inherts from JsonParser\"\"\"\n",
    "\n",
    "    # overriding abstract method\n",
    "    def parse_to_json(self, path_input, path_output):\n",
    "        df = pd.read_csv(path_input, index_col = 0)\n",
    "        df.to_json(path_output)\n"
   ]
  },
  {
   "cell_type": "code",
   "execution_count": null,
   "metadata": {},
   "outputs": [],
   "source": [
    "class XLSXParser(JsonParser):\n",
    "    \"\"\"CSVParser that inherts from JsonParser\"\"\"\n",
    "\n",
    "    # overriding abstract method\n",
    "    def parse_to_json(self, path_input, path_output):\n",
    "        df = pd.read_excel(path_input)\n",
    "        df.to_json(path_output)\n"
   ]
  },
  {
   "cell_type": "code",
   "execution_count": 7,
   "metadata": {},
   "outputs": [],
   "source": [
    "#test\n",
    "parser = CSVParser()\n",
    "parser.parse_to_json(\"Movie-Dataset-Latest (1).csv\", 'output.json')"
   ]
  }
 ],
 "metadata": {
  "interpreter": {
   "hash": "22e98dc126c11ed8b7da0abd0314319f11fb1123801a9053e96dbd9ca057f78a"
  },
  "kernelspec": {
   "display_name": "Python 3.8.3 64-bit",
   "language": "python",
   "name": "python3"
  },
  "language_info": {
   "codemirror_mode": {
    "name": "ipython",
    "version": 3
   },
   "file_extension": ".py",
   "mimetype": "text/x-python",
   "name": "python",
   "nbconvert_exporter": "python",
   "pygments_lexer": "ipython3",
   "version": "3.8.3"
  },
  "orig_nbformat": 4
 },
 "nbformat": 4,
 "nbformat_minor": 2
}
